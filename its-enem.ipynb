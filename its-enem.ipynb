{
 "cells": [
  {
   "cell_type": "code",
   "execution_count": 1,
   "metadata": {},
   "outputs": [
    {
     "name": "stderr",
     "output_type": "stream",
     "text": [
      "c:\\Users\\Administrator\\miniconda3\\envs\\its-enem\\Lib\\site-packages\\pydantic\\_internal\\_config.py:373: UserWarning: Valid config keys have changed in V2:\n",
      "* 'schema_extra' has been renamed to 'json_schema_extra'\n",
      "  warnings.warn(message, UserWarning)\n"
     ]
    }
   ],
   "source": [
    "from models import DomainModel, LearnerModel, PedagogyModel\n",
    "from controller import Controller"
   ]
  },
  {
   "cell_type": "code",
   "execution_count": 2,
   "metadata": {},
   "outputs": [],
   "source": [
    "# Mock questions data (could be loaded from a file)\n",
    "questions = [\n",
    "    {\n",
    "        \"id\": \"q1\",\n",
    "        \"correct\": \"A\",\n",
    "        \"difficulty\": \"easy\",\n",
    "        \"topics\": {\n",
    "            \"Biologia\": [\n",
    "                [\"Citologia\", \"Estrutura Celular\", \"Membrana Plasmática\"],\n",
    "                [\"Citologia\", \"Estrutura Celular\", \"Organelas\"]\n",
    "            ]\n",
    "        }\n",
    "    },\n",
    "    {\n",
    "        \"id\": \"q2\",\n",
    "        \"correct\": \"B\",\n",
    "        \"difficulty\": \"medium\",\n",
    "        \"topics\": {\n",
    "            \"Biologia\": [\n",
    "                [\"Citologia\", \"Divisão Celular\", \"Mitose\"]\n",
    "            ],\n",
    "            \"Química\": [\n",
    "                [\"Estrutura Atômica\", \"Modelos Atômicos\"]\n",
    "            ]\n",
    "        }\n",
    "    },\n",
    "    {\n",
    "        \"id\": \"q3\",\n",
    "        \"correct\": \"C\",\n",
    "        \"difficulty\": \"hard\",\n",
    "        \"topics\": {\n",
    "            \"Física\": [\n",
    "                [\"Mecânica\", \"Cinemática\"],\n",
    "                [\"Mecânica\", \"Dinâmica\"]\n",
    "            ],\n",
    "            \"Química\": [\n",
    "                [\"Termodinâmica\", \"Primeira Lei\"]\n",
    "            ]\n",
    "        }\n",
    "    },\n",
    "    {\n",
    "        \"id\": \"q4\",\n",
    "        \"correct\": \"D\",\n",
    "        \"difficulty\": \"easy\",\n",
    "        \"topics\": {\n",
    "            \"Biologia\": [\n",
    "                [\"Ecologia\", \"Cadeias e Teias Alimentares\"]\n",
    "            ]\n",
    "        }\n",
    "    },\n",
    "    {\n",
    "        \"id\": \"q5\",\n",
    "        \"correct\": \"E\",\n",
    "        \"difficulty\": \"medium\",\n",
    "        \"topics\": {\n",
    "            \"Química\": [\n",
    "                [\"Química Orgânica\", \"Hidrocarbonetos\"],\n",
    "                [\"Ligação Química\", \"Ligações Iônicas\"]\n",
    "            ]\n",
    "        }\n",
    "    }\n",
    "]"
   ]
  },
  {
   "cell_type": "code",
   "execution_count": null,
   "metadata": {},
   "outputs": [],
   "source": [
    "# Initialize models and controller\n",
    "domain_model = DomainModel('model/domain.yml')\n",
    "print(\"Domain Model Hierarchy:\")\n",
    "domain_model.print_domain()\n",
    "domain_model.plot()"
   ]
  },
  {
   "cell_type": "code",
   "execution_count": 4,
   "metadata": {},
   "outputs": [
    {
     "name": "stdout",
     "output_type": "stream",
     "text": [
      "Pedagogical Rules:\n",
      "  Rule: Relatedness for low topic performance\n",
      "    Condition: performance.topics[topic].percent_correct < 50.0\n",
      "    Action: {'feedback_relatedness[topic]': 1}\n",
      "\n",
      "  Rule: Competence for high topic performance\n",
      "    Condition: performance.topics[topic].percent_correct > 80.0\n",
      "    Action: {'feedback_competence[topic]': 1}\n",
      "\n",
      "  Rule: Autonomy for moderate topic performance\n",
      "    Condition: performance.topics[topic].percent_correct >= 50.0 AND performance.topics[topic].percent_correct <= 80.0\n",
      "    Action: {'feedback_autonomy[topic]': 1}\n",
      "\n",
      "  Rule: Relatedness for low area performance\n",
      "    Condition: performance.areas[area].percent_correct < 50.0\n",
      "    Action: {'feedback_relatedness[area]': 1}\n",
      "\n",
      "  Rule: Competence for high area performance\n",
      "    Condition: performance.areas[area].percent_correct > 80.0\n",
      "    Action: {'feedback_competence[area]': 1}\n",
      "\n",
      "  Rule: Autonomy for moderate area performance\n",
      "    Condition: performance.areas[area].percent_correct >= 50.0 AND performance.areas[area].percent_correct <= 80.0\n",
      "    Action: {'feedback_autonomy[area]': 1}\n",
      "\n",
      "  Rule: Urgent topic focus due to easy question failure\n",
      "    Condition: performance.topics[topic].difficulty_breakdown.easy > 0 AND performance.topics[topic].percent_correct < 50.0\n",
      "    Action: {'feedback_urgent[topic]': 1}\n",
      "\n",
      "  Rule: Review topic due to hard question weakness\n",
      "    Condition: performance.topics[topic].difficulty_breakdown.hard > 0 AND performance.topics[topic].percent_correct < 70.0\n",
      "    Action: {'feedback_review[topic]': 1}\n",
      "\n"
     ]
    }
   ],
   "source": [
    "pedagogy_model = PedagogyModel('model/pedagogy.yml')\n",
    "pedagogy_model.print_rules()"
   ]
  },
  {
   "cell_type": "code",
   "execution_count": 5,
   "metadata": {},
   "outputs": [
    {
     "name": "stdout",
     "output_type": "stream",
     "text": [
      "\n",
      "Learner Performance:\n",
      "Performance for learner_001:\n",
      "  Topics:\n",
      "    Membrana Plasmática: {'total_questions': 1, 'points': 1, 'percent_correct_easy_questions': 100.0, 'percent_correct_medium_questions': 0.0, 'percent_correct_hard_questions': 0.0}\n",
      "    Organelas: {'total_questions': 1, 'points': 1, 'percent_correct_easy_questions': 100.0, 'percent_correct_medium_questions': 0.0, 'percent_correct_hard_questions': 0.0}\n",
      "    Mitose: {'total_questions': 1, 'points': 2, 'percent_correct_easy_questions': 0.0, 'percent_correct_medium_questions': 100.0, 'percent_correct_hard_questions': 0.0}\n",
      "    Modelos Atômicos: {'total_questions': 1, 'points': 2, 'percent_correct_easy_questions': 0.0, 'percent_correct_medium_questions': 100.0, 'percent_correct_hard_questions': 0.0}\n",
      "    Cinemática: {'total_questions': 1, 'points': 3, 'percent_correct_easy_questions': 0.0, 'percent_correct_medium_questions': 0.0, 'percent_correct_hard_questions': 100.0}\n",
      "    Dinâmica: {'total_questions': 1, 'points': 3, 'percent_correct_easy_questions': 0.0, 'percent_correct_medium_questions': 0.0, 'percent_correct_hard_questions': 100.0}\n",
      "    Primeira Lei: {'total_questions': 1, 'points': 3, 'percent_correct_easy_questions': 0.0, 'percent_correct_medium_questions': 0.0, 'percent_correct_hard_questions': 100.0}\n",
      "    Cadeias e Teias Alimentares: {'total_questions': 1, 'points': 1, 'percent_correct_easy_questions': 100.0, 'percent_correct_medium_questions': 0.0, 'percent_correct_hard_questions': 0.0}\n",
      "    Hidrocarbonetos: {'total_questions': 1, 'points': 2, 'percent_correct_easy_questions': 0.0, 'percent_correct_medium_questions': 100.0, 'percent_correct_hard_questions': 0.0}\n",
      "    Ligações Iônicas: {'total_questions': 1, 'points': 2, 'percent_correct_easy_questions': 0.0, 'percent_correct_medium_questions': 100.0, 'percent_correct_hard_questions': 0.0}\n",
      "  Areas:\n",
      "    Biologia: {'total_questions': 3, 'points': 4, 'percent_correct_easy_questions': 100.0, 'percent_correct_medium_questions': 100.0, 'percent_correct_hard_questions': 0.0}\n",
      "    Química: {'total_questions': 3, 'points': 7, 'percent_correct_easy_questions': 0.0, 'percent_correct_medium_questions': 100.0, 'percent_correct_hard_questions': 100.0}\n",
      "    Física: {'total_questions': 1, 'points': 3, 'percent_correct_easy_questions': 0.0, 'percent_correct_medium_questions': 0.0, 'percent_correct_hard_questions': 100.0}\n"
     ]
    }
   ],
   "source": [
    "controller = Controller(domain_model, pedagogy_model, questions)\n",
    "\n",
    "# Example usage with a single learner\n",
    "learner = LearnerModel(id=\"learner_001\", answers={\"q1\": \"A\", \"q2\": \"B\", \"q3\": \"C\", \"q4\": \"D\", \"q5\": \"E\"})\n",
    "learner = controller.process_learner(learner)\n",
    "print(\"\\nLearner Performance:\")\n",
    "learner.print_performance()"
   ]
  },
  {
   "cell_type": "code",
   "execution_count": 6,
   "metadata": {},
   "outputs": [
    {
     "name": "stdout",
     "output_type": "stream",
     "text": [
      "Recommendation Report for learner_1\n",
      "\n",
      "**Your Strengths:**\n",
      "- No specific strengths identified yet. Keep working!\n",
      "\n",
      "**Opportunities for Growth:**\n",
      "- No specific opportunities for growth at this time.\n",
      "\n",
      "**Areas to Focus On:**\n",
      "- All areas are performing satisfactorily.\n",
      "\n"
     ]
    }
   ],
   "source": [
    "# Generate and process a random learner\n",
    "learner = controller.generate_learners(1)[0]\n",
    "learner = controller.process_learner(learner)\n",
    "\n",
    "# Apply pedagogical rules to check feedback flags\n",
    "feedback_flags = controller.apply_pedagogy(learner)\n",
    "report = controller.generate_report(feedback_flags, learner.id)\n",
    "print(report)"
   ]
  },
  {
   "cell_type": "code",
   "execution_count": 7,
   "metadata": {},
   "outputs": [
    {
     "name": "stdout",
     "output_type": "stream",
     "text": [
      "\n",
      "Generating Mock Reports:\n",
      "    Report for learner_1:\n",
      "Recommendation Report for learner_1\n",
      "\n",
      "**Your Strengths:**\n",
      "- No specific strengths identified yet. Keep working!\n",
      "\n",
      "**Opportunities for Growth:**\n",
      "- No specific opportunities for growth at this time.\n",
      "\n",
      "**Areas to Focus On:**\n",
      "- All areas are performing satisfactorily.\n",
      "\n",
      "\n",
      "    Report for learner_2:\n",
      "Recommendation Report for learner_2\n",
      "\n",
      "**Your Strengths:**\n",
      "- No specific strengths identified yet. Keep working!\n",
      "\n",
      "**Opportunities for Growth:**\n",
      "- No specific opportunities for growth at this time.\n",
      "\n",
      "**Areas to Focus On:**\n",
      "- All areas are performing satisfactorily.\n",
      "\n",
      "\n",
      "    Report for learner_3:\n",
      "Recommendation Report for learner_3\n",
      "\n",
      "**Your Strengths:**\n",
      "- No specific strengths identified yet. Keep working!\n",
      "\n",
      "**Opportunities for Growth:**\n",
      "- No specific opportunities for growth at this time.\n",
      "\n",
      "**Areas to Focus On:**\n",
      "- All areas are performing satisfactorily.\n",
      "\n",
      "\n",
      "    Report for learner_4:\n",
      "Recommendation Report for learner_4\n",
      "\n",
      "**Your Strengths:**\n",
      "- No specific strengths identified yet. Keep working!\n",
      "\n",
      "**Opportunities for Growth:**\n",
      "- No specific opportunities for growth at this time.\n",
      "\n",
      "**Areas to Focus On:**\n",
      "- All areas are performing satisfactorily.\n",
      "\n",
      "\n",
      "    Report for learner_5:\n",
      "Recommendation Report for learner_5\n",
      "\n",
      "**Your Strengths:**\n",
      "- No specific strengths identified yet. Keep working!\n",
      "\n",
      "**Opportunities for Growth:**\n",
      "- No specific opportunities for growth at this time.\n",
      "\n",
      "**Areas to Focus On:**\n",
      "- All areas are performing satisfactorily.\n",
      "\n",
      "\n"
     ]
    }
   ],
   "source": [
    "# Generate mock reports for multiple learners\n",
    "print(\"\\nGenerating Mock Reports:\")\n",
    "controller.generate_mock_reports(5)"
   ]
  }
 ],
 "metadata": {
  "kernelspec": {
   "display_name": "its-enem",
   "language": "python",
   "name": "python3"
  },
  "language_info": {
   "codemirror_mode": {
    "name": "ipython",
    "version": 3
   },
   "file_extension": ".py",
   "mimetype": "text/x-python",
   "name": "python",
   "nbconvert_exporter": "python",
   "pygments_lexer": "ipython3",
   "version": "3.11.11"
  }
 },
 "nbformat": 4,
 "nbformat_minor": 2
}
